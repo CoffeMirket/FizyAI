{
 "cells": [
  {
   "cell_type": "code",
   "execution_count": 2,
   "id": "5a5ddb9e",
   "metadata": {},
   "outputs": [
    {
     "name": "stdout",
     "output_type": "stream",
     "text": [
      "Mesleğinizi giriniz: Mühendis\n",
      "Yaşınızı giriniz: 40\n",
      "Cinsiyetinizi giriniz: Kadın\n",
      "Müzik zevkinizi giriniz: Jazz\n",
      "Sizin için önerilen şarkılar:\n",
      "Şarkı39\n",
      "Şarkı36\n",
      "Şarkı40\n",
      "Şarkı38\n",
      "Şarkı37\n",
      "Şarkı86\n",
      "Şarkı87\n",
      "Şarkı88\n",
      "Şarkı89\n",
      "Şarkı90\n"
     ]
    }
   ],
   "source": [
    "import pandas as pd\n",
    "import random\n",
    "\n",
    "veri_seti = pd.read_excel('C:/Users/Inovamarket/Desktop/Sarkilar.xlsx')\n",
    "\n",
    "meslek = input('Mesleğinizi giriniz: ')\n",
    "yas = int(input('Yaşınızı giriniz: '))\n",
    "cinsiyet = input('Cinsiyetinizi giriniz: ')\n",
    "muzik_zevki = input('Müzik zevkinizi giriniz: ')\n",
    "\n",
    "zevkine_uygun_kullanicilar = veri_seti[veri_seti['Müzik Zevki'] == muzik_zevki].copy()\n",
    "\n",
    "def benzerlik_puani(kullanici):\n",
    "    puan = 0\n",
    "    if kullanici['Meslek'] == meslek:\n",
    "        puan += 3\n",
    "    if abs(kullanici['Yaş'] - yas) <= 10:\n",
    "        puan += 2\n",
    "    if kullanici['Cinsiyet'] == cinsiyet:\n",
    "        puan += 1\n",
    "    return puan\n",
    "\n",
    "zevkine_uygun_kullanicilar['Benzerlik Puanı'] = zevkine_uygun_kullanicilar.apply(benzerlik_puani, axis=1)\n",
    "\n",
    "sirali_kullanicilar = zevkine_uygun_kullanicilar.sort_values(by='Benzerlik Puanı', ascending=False)\n",
    "\n",
    "secilen_sarkilar = []\n",
    "for _, kullanici in sirali_kullanicilar.iterrows():\n",
    "    sarkilar = kullanici['Şarkılar'].split(', ')\n",
    "    random.shuffle(sarkilar)\n",
    "    secilen_sarkilar.extend(sarkilar)\n",
    "\n",
    "oneri_listesi = secilen_sarkilar[:10]\n",
    "\n",
    "print('Sizin için önerilen şarkılar:')\n",
    "for sarki in oneri_listesi:\n",
    "    print(sarki)"
   ]
  },
  {
   "cell_type": "code",
   "execution_count": null,
   "id": "0a7a43f2",
   "metadata": {},
   "outputs": [],
   "source": []
  }
 ],
 "metadata": {
  "kernelspec": {
   "display_name": "Python 3 (ipykernel)",
   "language": "python",
   "name": "python3"
  },
  "language_info": {
   "codemirror_mode": {
    "name": "ipython",
    "version": 3
   },
   "file_extension": ".py",
   "mimetype": "text/x-python",
   "name": "python",
   "nbconvert_exporter": "python",
   "pygments_lexer": "ipython3",
   "version": "3.11.5"
  }
 },
 "nbformat": 4,
 "nbformat_minor": 5
}
